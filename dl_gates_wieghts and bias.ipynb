{
 "cells": [
  {
   "cell_type": "code",
   "execution_count": 1,
   "metadata": {
    "id": "wIRP6YziUhOO"
   },
   "outputs": [],
   "source": [
    "import numpy as np"
   ]
  },
  {
   "cell_type": "code",
   "execution_count": 2,
   "metadata": {
    "colab": {
     "base_uri": "https://localhost:8080/"
    },
    "id": "_pMpaEf3UhOR",
    "outputId": "490c4741-3616-443e-9dc9-a2e6446eabb5"
   },
   "outputs": [
    {
     "name": "stdout",
     "output_type": "stream",
     "text": [
      "XOR(0, 1) = 1\n",
      "XOR(1, 1) = 0\n",
      "XOR(0, 0) = 0\n",
      "XOR(1, 0) = 1\n"
     ]
    }
   ],
   "source": [
    "#define Unit Step Function\n",
    "def unitStep(f):\n",
    "    if f >= 0:\n",
    "        return 1\n",
    "    else:\n",
    "        return 0\n",
    "\n",
    "def perceptronModel(x,w,b):\n",
    "    f = np.dot(w,x) + b\n",
    "    y = unitStep(f)\n",
    "    return y\n",
    "\n",
    "def AND_logic(x):\n",
    "    w = np.array([1,1])\n",
    "    bAND = -1.5\n",
    "    return perceptronModel(x,w,bAND)\n",
    "\n",
    "def NOT_logic(x):\n",
    "    wnot = -1\n",
    "    bnot = 0.5\n",
    "    return perceptronModel(x,wnot,bnot)\n",
    "\n",
    "def OR_logic(x):\n",
    "    w = np.array([1,1])\n",
    "    bOR = -0.5\n",
    "    return perceptronModel(x,w,bOR)\n",
    "\n",
    "def XOR_logicFunction(x):\n",
    "    y1 = AND_logic(x)\n",
    "    y2 = OR_logic(x)\n",
    "    y3 = NOT_logic(y1)\n",
    "    final_x = np.array([y2, y3])\n",
    "    finalOutput = AND_logic(final_x)\n",
    "    return finalOutput\n",
    "\n",
    "# testing the Perceptron Model\n",
    "test1 = np.array([0, 1])\n",
    "test2 = np.array([1, 1])\n",
    "test3 = np.array([0, 0])\n",
    "test4 = np.array([1, 0])\n",
    "\n",
    "print(\"XOR({}, {}) = {}\".format(0, 1, XOR_logicFunction(test1)))\n",
    "print(\"XOR({}, {}) = {}\".format(1, 1, XOR_logicFunction(test2)))\n",
    "print(\"XOR({}, {}) = {}\".format(0, 0, XOR_logicFunction(test3)))\n",
    "print(\"XOR({}, {}) = {}\".format(1, 0, XOR_logicFunction(test4)))\n"
   ]
  },
  {
   "cell_type": "code",
   "execution_count": null,
   "metadata": {},
   "outputs": [],
   "source": []
  }
 ],
 "metadata": {
  "colab": {
   "provenance": []
  },
  "kernelspec": {
   "display_name": "Python 3 (ipykernel)",
   "language": "python",
   "name": "python3"
  },
  "language_info": {
   "codemirror_mode": {
    "name": "ipython",
    "version": 3
   },
   "file_extension": ".py",
   "mimetype": "text/x-python",
   "name": "python",
   "nbconvert_exporter": "python",
   "pygments_lexer": "ipython3",
   "version": "3.11.3"
  }
 },
 "nbformat": 4,
 "nbformat_minor": 1
}
